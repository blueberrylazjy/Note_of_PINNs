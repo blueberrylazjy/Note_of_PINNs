{
 "cells": [
  {
   "cell_type": "code",
   "execution_count": 83,
   "id": "ef94a470",
   "metadata": {},
   "outputs": [],
   "source": [
    "import numpy as np\n",
    "import tensorflow as tf\n",
    "import matplotlib.pyplot as plt\n",
    "\n",
    "def analytical_solution(g, w0, t):\n",
    "\n",
    "    assert g <= w0\n",
    "    w = np.sqrt(w0**2-g**2)\n",
    "    phi = np.arctan(-g/w)\n",
    "    A = 1/(2*np.cos(phi))\n",
    "    cos = tf.math.cos(phi+w*t)\n",
    "    sin = tf.math.sin(phi+w*t)\n",
    "    exp = tf.math.exp(-g*t)\n",
    "    x  = exp*2*A*cos\n",
    "    return x\n",
    "\n",
    "def MLP(n_input, n_output, n_neuron, n_layer, act_fn='tanh'):\n",
    "    tf.random.set_seed(1234)\n",
    "    model = tf.keras.Sequential([\n",
    "        tf.keras.layers.Dense(\n",
    "            units=n_neuron,\n",
    "            activation=act_fn,\n",
    "            kernel_initializer=tf.keras.initializers.GlorotNormal(),\n",
    "            input_shape=(n_input,),\n",
    "            name='H1')\n",
    "    ])\n",
    "    for i in range(n_layer-1):\n",
    "        model.add(\n",
    "            tf.keras.layers.Dense(\n",
    "                units=n_neuron,\n",
    "                activation=act_fn,\n",
    "                kernel_initializer=tf.keras.initializers.GlorotNormal(),\n",
    "                name='H{}'.format(str(i+2))\n",
    "            ))\n",
    "    model.add(\n",
    "        tf.keras.layers.Dense(\n",
    "            units=n_output,\n",
    "            name='output'\n",
    "        ))\n",
    "    return model\n",
    "\n",
    "class EarlyStopping:\n",
    "\n",
    "    def __init__(self, patience=10, verbose=0):\n",
    "\n",
    "        self.epoch = 0 # 監視中のエポック数のカウンターを初期\n",
    "        self.pre_loss = float('inf') # 比較対象の損失を無限大'inf'で初期化\n",
    "        self.patience = patience # 監視対象のエポック数をパラメーターで初期化\n",
    "        self.verbose = verbose # 早期終了メッセージの出力フラグをパラメーターで初期化\n",
    "\n",
    "    def __call__(self, current_loss):\n",
    "\n",
    "        if self.pre_loss < current_loss: # 前エポックの損失より大きくなった場合\n",
    "            self.epoch += 1 # カウンターを1増やす\n",
    "\n",
    "            if self.epoch > self.patience: # 監視回数の上限に達した場合\n",
    "                if self.verbose:  # 早期終了のフラグが1の場合\n",
    "                    print('early stopping')\n",
    "                return True # 学習を終了するTrueを返す\n",
    "\n",
    "        else: # 前エポックの損失以下の場合\n",
    "            self.epoch = 0 # カウンターを0に戻す\n",
    "            self.pre_loss = current_loss # 損失の値を更新す\n",
    "\n",
    "        return False\n",
    "\n",
    "\n",
    "class PhysicsInformedNNs():\n",
    "\n",
    "    def __init__(self, n_input, n_output, n_neuron, n_layer, epochs, act_fn='tanh'):\n",
    "        self.n_input = n_input\n",
    "        self.n_output = n_output\n",
    "        self.n_neuron = n_neuron\n",
    "        self.n_layer = n_layer\n",
    "        self.epochs = epochs\n",
    "        self.act_fn = act_fn\n",
    "\n",
    "    def build(self, optimizer, loss_fn, early_stopping):\n",
    "        self._model = MLP(self.n_input, self.n_output, self.n_neuron, self.n_layer, self.act_fn)\n",
    "        self._optimizer = optimizer\n",
    "        self._loss_fn = loss_fn\n",
    "        self._early_stopping = early_stopping\n",
    "        return self\n",
    "\n",
    "    def train_step(self, t_data, x_data, t_pinn, c, k, loop):\n",
    "        with tf.GradientTape() as tape_total:\n",
    "            tape_total.watch(self._model.trainable_variables)\n",
    "            x_pred = self._model(t_data)\n",
    "            loss1 = self._loss_fn(x_pred, x_data)\n",
    "            loss1 = tf.cast(loss1, dtype=tf.float32)\n",
    "\n",
    "            with tf.GradientTape() as tape2:\n",
    "                tape2.watch(t_pinn)\n",
    "                with tf.GradientTape() as tape1:\n",
    "                    tape1.watch(t_pinn)\n",
    "                    x_pred_pinn = self._model(t_pinn)\n",
    "                dx_dt = tape1.gradient(x_pred_pinn, t_pinn)\n",
    "            dx_dt2 = tape2.gradient(dx_dt, t_pinn)\n",
    "\n",
    "            dx_dt  = tf.cast(dx_dt, dtype=tf.float32)\n",
    "            dx_dt2 = tf.cast(dx_dt2, dtype=tf.float32)\n",
    "            x_pred_pinn = tf.cast(x_pred_pinn, dtype=tf.float32)\n",
    "\n",
    "            loss_physics = dx_dt2 + c * dx_dt + k * x_pred_pinn\n",
    "            loss2 = 5.0e-6 * self._loss_fn(loss_physics, tf.zeros_like(loss_physics))\n",
    "            loss2 = tf.cast(loss2, dtype=tf.float32)\n",
    "         \n",
    "            loss = loss1 + loss2\n",
    "            if loop % 300 ==0:         \n",
    "                print(\"loss: \",loss.numpy(), \"train_step:\",loop)\n",
    "\n",
    "        self._optimizer.minimize(loss, self._model.trainable_variables, tape=tape_total)\n",
    "        self._loss_values.append(loss)\n",
    "        return self\n",
    "\n",
    "    def train(self, t, x, t_data, x_data, t_pinn, c, k):\n",
    "        self._loss_values = []\n",
    "        self.loop = 0\n",
    "        for i in range(self.epochs):\n",
    "            self.loop += 1\n",
    "            self.train_step(t_data, x_data, t_pinn, c, k, self.loop)\n",
    "            if self._early_stopping(self._loss_values[-1]):\n",
    "                break\n"
   ]
  },
  {
   "cell_type": "code",
   "execution_count": 108,
   "id": "6b290713",
   "metadata": {},
   "outputs": [
    {
     "name": "stdout",
     "output_type": "stream",
     "text": [
      "loss:  0.02709574 train_step: 300\n",
      "loss:  0.015870383 train_step: 600\n",
      "loss:  0.005338027 train_step: 900\n",
      "loss:  0.0034190817 train_step: 1200\n",
      "early stopping\n"
     ]
    }
   ],
   "source": [
    "if __name__ == \"__main__\":\n",
    "\n",
    "    ################ Data-driven neural networks ################\n",
    "\n",
    "    g, w0 = 3, 28\n",
    "    c, k = 2*g, w0**2\n",
    "\n",
    "    t = tf.linspace(0,1,300)\n",
    "    t = tf.reshape(t,[-1,1])\n",
    "\n",
    "    x = analytical_solution(g, w0, t)\n",
    "    x = tf.reshape(x,[-1,1])\n",
    "    ############## Physics-informed neural networks ##############\n",
    "\n",
    "    t_pinn = tf.linspace(0,1,50)\n",
    "    t_pinn = tf.reshape(t_pinn,[-1,1])\n",
    "\n",
    "    # Random data points\n",
    "    random_list = [0,299]\n",
    "    t_data = tf.gather(t, random_list)\n",
    "    x_data = tf.gather(x, random_list)\n",
    "\n",
    "    PINNs = PhysicsInformedNNs(1,1,48,5,25000)\n",
    "    optimizer = tf.keras.optimizers.Adam(learning_rate=1e-3)\n",
    "    loss_fn = tf.keras.losses.MeanSquaredError()\n",
    "    early_stopping = EarlyStopping(patience=250,verbose=1)\n",
    "    PINNs.build(optimizer, loss_fn, early_stopping)\n",
    "    PINNs.train(t, x, t_data, x_data, t_pinn, c, k)"
   ]
  },
  {
   "cell_type": "code",
   "execution_count": 109,
   "id": "761a23db",
   "metadata": {},
   "outputs": [
    {
     "name": "stdout",
     "output_type": "stream",
     "text": [
      "3/3 [==============================] - 0s 1000us/step\n"
     ]
    }
   ],
   "source": [
    "t_test = tf.linspace(0,1,80)\n",
    "x_test = PINNs._model.predict(t_test)"
   ]
  },
  {
   "cell_type": "code",
   "execution_count": 110,
   "id": "36219e2a",
   "metadata": {},
   "outputs": [
    {
     "data": {
      "image/png": "[encoded data removed]",
      "text/plain": [
       "<Figure size 432x288 with 1 Axes>"
      ]
     },
     "metadata": {
      "needs_background": "light"
     },
     "output_type": "display_data"
    }
   ],
   "source": [
    "\n",
    "plt.plot(t_test, x_test, label=\"PINNs\", c=\"y\")\n",
    "\n",
    "plt.plot(t,x,label=\"Analytical solution\",c=\"r\" )\n",
    "\n",
    "plt.scatter(t_data, x_data)\n",
    "plt.xlabel(\"Times(s)\")\n",
    "plt.ylabel(\"X\")\n",
    "plt.grid(True)\n",
    "plt.ylim(-2.0, 2.0)\n",
    "plt.legend()\n",
    "plt.show()"
   ]
  },
  {
   "cell_type": "code",
   "execution_count": null,
   "id": "1bf344a3",
   "metadata": {},
   "outputs": [],
   "source": []
  }
 ],
 "metadata": {
  "kernelspec": {
   "display_name": "Python 3 (ipykernel)",
   "language": "python",
   "name": "python3"
  },
  "language_info": {
   "codemirror_mode": {
    "name": "ipython",
    "version": 3
   },
   "file_extension": ".py",
   "mimetype": "text/x-python",
   "name": "python",
   "nbconvert_exporter": "python",
   "pygments_lexer": "ipython3",
   "version": "3.9.12"
  }
 },
 "nbformat": 4,
 "nbformat_minor": 5
}
