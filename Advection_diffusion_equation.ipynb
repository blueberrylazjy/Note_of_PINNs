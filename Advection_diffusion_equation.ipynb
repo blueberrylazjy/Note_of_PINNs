{
 "cells": [
  {
   "cell_type": "markdown",
   "id": "8132182b",
   "metadata": {},
   "source": [
    "<h4>References: </h4>\n",
    "\n",
    "1)  https://mathlang.hatenablog.com/entry/2018/10/19/070000\n",
    "\n",
    "<h4>Advection diffusion equation</h4>\n",
    "<h4 >1. Mathematical form : </h4>\n",
    "<h4>$\\frac{\\partial u}{\\partial t}+\\nabla \\cdot(\\boldsymbol{c} u)=\\nabla \\cdot(D \\nabla u)\\hspace{4mm}(1)$</h4>\n",
    "<h4 >2. Simplified form : </h4>\n",
    "<h4>With c and D constant, one dimension</h4>\n",
    "<h4>$ \\frac{\\partial{u}}{\\partial{t}}+ c\\frac{\\partial{u}}{\\partial{x}} = D\\frac{\\partial^2{u}}{\\partial x^2} \\hspace{4mm}(2)$</h4>\n",
    "\n",
    "<h4 >3. Initial conditions : </h4>\n",
    "<h4>$\n",
    "u(x,0)=\\left\\{\\begin{matrix}\n",
    "2&x\\in[1,4]\\\\\n",
    "1&x\\in[0,1)\\cup(4,40]\n",
    "\\end{matrix}\\right.$   \n",
    "</h4>\n",
    "<h4>$c=1.2, D=0.2$</h4>\n",
    "<h4>4. Analytical solution:</h4>\n",
    "\n",
    "</h4>$u(t, x)=\\frac{1}{\\sqrt{4 D t \\pi}} \\int_{-\\infty}^{\\infty} u(s,0) e^{-\\frac{(x-ct-s)^2}{4 D t}} ds \\hspace{4mm}(3)$</h4>"
   ]
  },
  {
   "cell_type": "code",
   "execution_count": 21,
   "id": "225915c1",
   "metadata": {},
   "outputs": [],
   "source": [
    "import tensorflow as tf\n",
    "from tensorflow import keras\n",
    "\n",
    "import numpy as np\n",
    "\n",
    "import matplotlib.pyplot as plt\n",
    "import matplotlib as mpl\n",
    "import matplotlib.animation as animation\n",
    "\n",
    "from IPython.display import HTML"
   ]
  },
  {
   "cell_type": "code",
   "execution_count": 22,
   "id": "cd0ea7d4",
   "metadata": {},
   "outputs": [
    {
     "name": "stdout",
     "output_type": "stream",
     "text": [
      "Num GPUs Available:  1\n",
      "GPU Device: PhysicalDevice(name='/physical_device:GPU:0', device_type='GPU')\n"
     ]
    }
   ],
   "source": [
    "print(\"Num GPUs Available: \", len(tf.config.experimental.list_physical_devices('GPU')))\n",
    "physical_devices = tf.config.list_physical_devices('GPU')\n",
    "if physical_devices:\n",
    "    for device in physical_devices:\n",
    "        print(\"GPU Device:\", device)"
   ]
  },
  {
   "cell_type": "markdown",
   "id": "c1e59d45-8099-4915-9048-54b42b6184a1",
   "metadata": {},
   "source": [
    "<h4>Build analytical solution</h4>\n",
    "The analytical solution is an integral and can only be solved when $u(s,0)$ is given with a comfortable value. The analytical solution can also be written as a sum of infinite terms. Most of the time simulation is the only method for advection diffusion and even when the integeral can be solved somehow, it may also prefer to be done by a computer."
   ]
  },
  {
   "cell_type": "code",
   "execution_count": 29,
   "id": "311fcb8a-47ce-452e-a795-aaac410f406d",
   "metadata": {},
   "outputs": [],
   "source": [
    "c = 1.0\n",
    "d = 0.18\n",
    "deltat = 0.04\n",
    "deltax = 0.2\n",
    "t = 14\n",
    "L = 40\n",
    "\n",
    "nt = int(t/deltat)\n",
    "nx = int(L/deltax)\n",
    "\n",
    "x = np.linspace(0, L, nx)"
   ]
  },
  {
   "cell_type": "code",
   "execution_count": 213,
   "id": "1536c9de-51b3-442b-9a35-f8eed4c11427",
   "metadata": {},
   "outputs": [],
   "source": [
    "import scipy.integrate as spi\n",
    "\n",
    "k = np.where((x < 1) | (x >4), 0.0, 2.0)\n",
    "\n",
    "lower = 0\n",
    "upper = 40\n",
    "\n",
    "def u_initial(s):\n",
    "    x = s\n",
    "    return np.where((x < 1) | (x > 4), 0.0, 2.0)\n",
    "\n",
    "\n",
    "def calculate_u(x, t):\n",
    "    def integrand(s):\n",
    "        return u_initial(s) * np.exp(-((x -c* t - s) ** 2) / (4 * d* t)) \n",
    "    \n",
    "    result, _ = spi.quad(integrand, lower, upper)\n",
    "    u_tx = result / np.sqrt(4 * d * t * np.pi)\n",
    "    return u_tx\n",
    "\n",
    "x_value = 2.1\n",
    "t_value = 0.01 # to avoid 0 to be divided\n",
    "u_result = calculate_u(x_value, t_value)"
   ]
  },
  {
   "cell_type": "code",
   "execution_count": 214,
   "id": "3a58ddba-3db1-43bb-a62c-b01a6d2de5a4",
   "metadata": {},
   "outputs": [
    {
     "data": {
      "text/plain": [
       "2.000000000000095"
      ]
     },
     "execution_count": 214,
     "metadata": {},
     "output_type": "execute_result"
    }
   ],
   "source": [
    "u_result # close to 2, this can be thought to be close to analytical solution"
   ]
  },
  {
   "cell_type": "code",
   "execution_count": 215,
   "id": "58d9957e-cefa-44e8-bf1d-66a46fa58e30",
   "metadata": {},
   "outputs": [],
   "source": [
    "import datetime\n",
    "\n",
    "start_time_analytical = datetime.datetime.now()\n",
    "analytical = []\n",
    "\n",
    "for i in range(nt):\n",
    "    kn = k.copy()\n",
    "    analytical.append(kn)\n",
    "    for n in range(nx):\n",
    "        k[n] = calculate_u(n * deltax + 0.01, i * deltat + 0.01)# to avoid 0 to be divided\n",
    "        \n",
    "end_time_analytical = datetime.datetime.now()     \n",
    "# This is super time consuming        "
   ]
  },
  {
   "cell_type": "code",
   "execution_count": 1,
   "id": "f91dba0c-f4d4-4124-b727-047718aa066b",
   "metadata": {},
   "outputs": [],
   "source": [
    "#elapsed_time_analytical = end_time_analytical - start_time_analytical\n",
    "#plt.plot(x,analytical[-1], label=\"last time analytical\")\n",
    "#plt.text(1.0,1.1, f\"Analytical: {elapsed_time_analytical.total_seconds():.6f} s\", fontsize=12, ha='center', va='center', bbox=dict(facecolor='white', edgecolor='gray', boxstyle='round,pad=0.4'))\n",
    "#plt.grid()\n",
    "#plt.legend()\n",
    "#plt.show()"
   ]
  },
  {
   "cell_type": "markdown",
   "id": "a965d481",
   "metadata": {},
   "source": [
    "<h4>Simulations</h4>\n",
    "<h4>1. Upwind differencing(Backward differencing) :</h4>\n",
    "The left side of the equation is just advection, the difference approximation is listed in my advection notebook.To calculate the right side, one can perform backward Euler method $\\frac{\\mathrm{d}^2 u}{\\mathrm{~d} x^2}=\\frac{\\mathrm{d}\\left(\\frac{\\mathrm{d} u}{\\mathrm{~d} x}\\right)}{\\mathrm{d} x} \\simeq \\frac{\\frac{u_{i+1} -u_i}{\\Delta x}-\\frac{u_i-u_{i+1}}{\\Delta x}}{\\Delta x}=\\frac{u_{i+1}+u_{i-1}-2 u_i}{\\Delta x^2}$ on $D\\frac{\\partial^2{u}}{\\partial x^2}$. This yields\n",
    "<h3>$ \\frac{u_i^{n+1}-u_i^n}{\\Delta t} +c\\frac{u_i^n-u_{i-1}^n}{\\Delta x} = D\\frac{u^n_{i+1}-2u^n_i+u^n_{i-1}}{(\\Delta x)^2}\n",
    "\\hspace{4mm}(1)$</h3>\n",
    "\n",
    "Substituting$ \\frac{c \\Delta t}{\\Delta x} $for $\\alpha $ and $D\\frac{\\Delta t}{(\\Delta x)^2}$for $\\beta$ leads to\n",
    "<h3>$ u_i^{n+1} = u_i^n -\\alpha(u_i^n-u_{i-1}^n) + \\beta( u^n_{i+1}-2u^n_i+u^n_{i-1})\n",
    "\\hspace{4mm}(2)$</h3>\n",
    "\n",
    "<h4> Courant condition: $\\alpha = \\frac{c \\Delta t}{\\Delta x} < 1 $ and $ \\Delta t \\leqq \\frac{\\Delta x^2}{2D}  $ </h4>\n",
    "<h3>$ u_i^{n+1} = (1-\\alpha)u_i^n +\\alpha u_{i-1}^n\n",
    "\\hspace{4mm}(4)$</h3>"
   ]
  },
  {
   "cell_type": "code",
   "execution_count": 172,
   "id": "f33c5e08-4889-49f6-b379-e2c644adf13d",
   "metadata": {},
   "outputs": [
    {
     "name": "stdout",
     "output_type": "stream",
     "text": [
      "Courant condition past, expecting steady simulation\n"
     ]
    }
   ],
   "source": [
    "# Courant condition test\n",
    "if c*deltat/deltax >= 1 or deltat > deltax**2/(2*d):\n",
    "    print(\"Error Courant condition failed\")\n",
    "else:\n",
    "    print(\"Courant condition past, expecting steady simulation\")\n",
    "    "
   ]
  },
  {
   "cell_type": "code",
   "execution_count": 192,
   "id": "bfab2e51",
   "metadata": {},
   "outputs": [],
   "source": [
    "start_time_Upwind = datetime.datetime.now()\n",
    "\n",
    "keep1 = []\n",
    "\n",
    "u = np.where((x < 1) | (x >4), 0.0, 2.0)\n",
    "alpha = c*deltat/deltax\n",
    "beta = d*deltat/(deltax**2)\n",
    "\n",
    "for n in range(nt): \n",
    "    un = u.copy()\n",
    "    keep1.append(un)\n",
    "    for i in range(1, nx-1):\n",
    "        u[i] = un[i] - alpha * (un[i] - un[i-1]) + beta *(un[i+1] -2*un[i]+un[i-1])\n",
    "\n",
    "end_time_Upwind = datetime.datetime.now()"
   ]
  },
  {
   "cell_type": "code",
   "execution_count": 2,
   "id": "09dc96d7-f365-42e2-b62a-27255a8b10a3",
   "metadata": {},
   "outputs": [],
   "source": [
    "#plt.plot(x,keep1[-1], label=\"last time Upwind\")\n",
    "#elapsed_time_Upwind = end_time_Upwind - start_time_Upwind\n",
    "#plt.text(1.0,1.1, f\"Upwind: {elapsed_time_Upwind.total_seconds():.6f} s\", fontsize=12, ha='center', va='center', bbox=dict(facecolor='white', edgecolor='gray', boxstyle='round,pad=0.4'))\n",
    "#plt.grid()\n",
    "#plt.xlabel(\"x\")\n",
    "#plt.ylabel(\"y\")\n",
    "#plt.legend()\n",
    "#plt.show()"
   ]
  },
  {
   "cell_type": "markdown",
   "id": "db38efb9-5732-49f0-a6d2-a0ec16a72f87",
   "metadata": {},
   "source": [
    "<h4>1. Crank-Nicolson :</h4>\n",
    "Crank-Nicolson uses a second-order method in time\n",
    "The first term on the left side follows backward Euler method : $\\frac{\\partial u}{\\partial t} = c\\frac{u_i^n-u_{i-1}^n}{\\Delta x}$\n",
    "\n",
    "The second term on the left side uses a second-order method in time, taking the average between time $n+1$ and $n$ : $ c \\frac{\\partial u}{\\partial x} = \\frac{c}{2}\\frac{u^{n+1}_{i+1} - u^{n+1}_{i-1}}{2\\Delta x} + \\frac{u^n_{i+1}-u^n_{i-1}}{2\\Delta x}$\n",
    "\n",
    "The right side of the equation also takes a second-order method in time: $D\\frac{\\partial^2{u}}{\\partial x^2} = \\frac{D}{2} \\left( \\frac{u^{n+1}_{i+1} - 2u^{n+1}_{i} + u^{n+1}_{i-1} }{\\Delta x^2} + \\frac{u^{n}_{i+1} - 2u^{n}_{i} + u^{n}_{i-1} }{\\Delta x^2} \\right)$\n",
    "\n",
    "Substuting the approximations into advection diffusion equation yiels:\n",
    "\n",
    "<h3>$ \\frac{u_i^{n+1}-u_i^n}{\\Delta t} + \\frac{c}{2}\\left( \\frac{u^{n+1}_{i+1} - u^{n+1}_{i-1}}{2\\Delta x} + \\frac{u^n_{i+1}-u^n_{i-1}}{2\\Delta x} \\right)= \\frac{D}{2} \\left( \\frac{u^{n+1}_{i+1} - 2u^{n+1}_{i} + u^{n+1}_{i-1} }{\\Delta x^2} + \\frac{u^{n}_{i+1} - 2u^{n}_{i} + u^{n}_{i-1} }{\\Delta x^2} \\right)\\hspace{4mm}(1)$</h3>\n",
    "\n",
    "Substituting$ \\frac{c \\Delta t}{4\\Delta x} $for $\\theta $ and $ D\\frac{\\Delta t}{2(\\Delta x)^2}$for $\\phi$ yields\n",
    "<h3>$ u_i^{n+1}-u_i^n + \\theta \\left( u^{n+1}_{i+1} - u^{n+1}_{i-1} + u^n_{i+1}-u^n_{i-1} \\right)= \\phi \\left( u^{n+1}_{i+1} - 2u^{n+1}_{i} + u^{n+1}_{i-1}  + u^{n}_{i+1} - 2u^{n}_{i} + u^{n}_{i-1} \\right)\\hspace{4mm}(2)$</h3>\n",
    "\n",
    "To perform matrix calculations, transform all terms of $u^{n+1}$ to the left side and $u^{n}$ to the right side\n",
    "\n",
    "$ -(\\phi+\\theta)u_{i-1}^{n+1} + (1+2\\phi)u_{i}^{n+1} -(\\phi -\\theta)u_{i}^{n+1} = (\\phi+\\theta)u_{i-1}^n +(1-2\\phi)u_i^n+(\\phi-\\theta)u_{i+1}^n \\hspace{4mm}(3)$\n",
    "\n",
    "This can be derived into a matrix equation\n",
    "\n",
    "\\begin{array}\n",
    "$\\begin{bmatrix}\n",
    "  (1+2\\phi) & -(\\phi-\\theta) & 0 & 0 & \\dots & 0\\\\\n",
    "  -(\\phi+\\theta) & (1+2\\phi) & -(\\phi-\\theta) & 0 & \\dots & 0\\\\\n",
    "  0 & -(\\phi+\\theta) & (1+2\\phi) & -(\\phi-\\theta) & \\dots & 0\\\\\n",
    "  \\vdots & \\vdots & \\vdots &  \\vdots & \\ddots & \\vdots\\\\\n",
    "  0 & 0 & \\dots & -(\\phi + \\theta) &(1+2\\phi) &-(\\phi - \\theta)\n",
    "\\end{bmatrix}\n",
    "\\begin{bmatrix}\n",
    "u_0^{n+1}\\\\\n",
    "u_1^{n+1}\\\\\n",
    "u_2^{n+1}\\\\\n",
    "\\vdots\\\\\n",
    "u_i^{n+1}\\\\\n",
    "\\end{bmatrix}\n",
    "\\begin{matrix}\n",
    "=\n",
    "\\end{matrix}\n",
    "\\begin{bmatrix}\n",
    "  (1-2\\phi) & (\\phi-\\theta) & 0 & 0 & \\dots & 0\\\\\n",
    "  (\\phi+\\theta) & (1-2\\phi) & (\\phi-\\theta) & 0 & \\dots & 0\\\\\n",
    "  0 & (\\phi+\\theta) & (1-2\\phi) & (\\phi-\\theta) & \\dots & 0\\\\\n",
    "  \\vdots & \\vdots & \\vdots &  \\vdots & \\ddots & \\vdots\\\\\n",
    "  0 & 0 & \\dots & (\\phi + \\theta) &(1-2\\phi) &(\\phi - \\theta)\n",
    "\\end{bmatrix}\n",
    "\\begin{bmatrix}\n",
    "u_0^{n}\\\\\n",
    "u_1^{n}\\\\\n",
    "u_2^{n}\\\\\n",
    "\\vdots\\\\\n",
    "u_i^{n}\\\\\n",
    "\\end{bmatrix}\n",
    "\\begin{matrix}\n",
    "\\hspace{4mm}(4)\n",
    "\\end{matrix}\n",
    "\\end{array}\n"
   ]
  },
  {
   "cell_type": "code",
   "execution_count": 178,
   "id": "7a504684",
   "metadata": {},
   "outputs": [],
   "source": [
    "start_time_Crank_Nicolson = datetime.datetime.now()\n",
    "\n",
    "theta = c*deltat/(4*deltax)\n",
    "phi = d*deltat/(2*deltax**2)\n",
    "\n",
    "u = np.where((x < 1) | (x >4), 0.0, 2.0)\n",
    "A = np.zeros((nx+1, nx+1))\n",
    "B = np.zeros((nx+1, nx+1))\n",
    "\n",
    "for i in range(1, nx):\n",
    "    A[i, i-1] = -phi - theta\n",
    "    A[i, i] = 1 + 2*phi\n",
    "    A[i, i+1] = - ( phi - theta)\n",
    "\n",
    "    B[i, i-1] = phi + theta\n",
    "    B[i, i] = 1 - 2*phi\n",
    "    B[i, i+1] = phi - theta\n",
    "# Au_new = Bu_old\n",
    "# calculate with np.linalg.solve(A, right_side)\n",
    "    \n",
    "u_new = u.copy()\n",
    "keep2 = []\n",
    "for n in range(nt):\n",
    "    u_new[1:nx] = np.linalg.solve(A[1:nx, 1:nx], np.dot(B[1:nx, 1:nx], u[1:nx]))\n",
    "    keep2.append(u_new.copy())\n",
    "    u = u_new\n",
    "end_time_Crank_Nicolson = datetime.datetime.now()"
   ]
  },
  {
   "cell_type": "code",
   "execution_count": 3,
   "id": "2456594f-c6f2-4fef-9859-22763a00a71f",
   "metadata": {},
   "outputs": [],
   "source": [
    "#plt.plot(x,keep2[-1], label=\"last time Crank-Nicolson\")\n",
    "#elapsed_time_Crank_Nicolson = abs(end_time_Crank_Nicolson - start_time_Crank_Nicolson)\n",
    "#plt.text(1.0,1.1, f\"Crank-Nicolson: {elapsed_time_Crank_Nicolson.total_seconds():.6f} s\", fontsize=12, ha='center', va='center', bbox=dict(facecolor='white', edgecolor='gray', boxstyle='round,pad=0.4'))\n",
    "#plt.grid()\n",
    "#plt.xlabel(\"x\")\n",
    "#plt.ylabel(\"y\")\n",
    "#plt.legend()\n",
    "#plt.show()"
   ]
  },
  {
   "cell_type": "code",
   "execution_count": 78,
   "id": "58503d90",
   "metadata": {},
   "outputs": [],
   "source": [
    "def MLP(n_input1, n_input2, n_output, n_neuron, n_layer, act_fn):\n",
    "    input1 = keras.layers.Input(shape=(n_input1,))\n",
    "    input2 = keras.layers.Input(shape=(n_input2,))\n",
    "\n",
    "    \n",
    "    merged = keras.layers.concatenate([input1, input2])\n",
    "    hidden_layers=[]\n",
    "    \n",
    "    for _ in range(n_layer):\n",
    "        hidden = keras.layers.Dense(\n",
    "            units=n_neuron,\n",
    "            activation=act_fn,\n",
    "            kernel_initializer=tf.keras.initializers.GlorotNormal())\n",
    "        hidden_layers.append(hidden)\n",
    "        \n",
    "    for hidden in hidden_layers:\n",
    "            merged = hidden(merged)\n",
    "        \n",
    "    \n",
    "    output = keras.layers.Dense(\n",
    "            units=n_output,\n",
    "            activation=\"elu\",\n",
    "            kernel_initializer=tf.keras.initializers.GlorotNormal()\n",
    "            )(merged)\n",
    "    \n",
    "    model = tf.keras.models.Model(inputs=[input1, input2], outputs=output)    \n",
    "\n",
    "    return model\n",
    "\n",
    "class EarlyStopping:\n",
    "\n",
    "    def __init__(self, patience=10, verbose=0):\n",
    "        self.stopped = 0\n",
    "        self.epoch = 0 \n",
    "        self.pre_loss = float('inf') \n",
    "        self.patience = patience\n",
    "        self.verbose = verbose # 早期終了メッセージの出力フラグをパラメーターで初期化\n",
    "\n",
    "    def __call__(self, current_loss):\n",
    "\n",
    "        if self.pre_loss <= current_loss: \n",
    "            self.epoch += 1 \n",
    "\n",
    "            if self.epoch > self.patience:\n",
    "                self.epoch = 0\n",
    "                self.pre_loss = current_loss \n",
    "                return True\n",
    "\n",
    "        else: \n",
    "            self.epoch = 0 \n",
    "            self.pre_loss = current_loss \n",
    "\n",
    "        return False\n",
    "\n",
    "\n",
    "class PhysicsInformedNNs():\n",
    "\n",
    "    def __init__(self, n_input1,n_input2, n_output, n_neuron, n_layer, epochs, act_fn='tanh'):\n",
    "        self.n_input1 = n_input1\n",
    "        self.n_input2 = n_input2\n",
    "        self.n_output = n_output\n",
    "        self.n_neuron = n_neuron\n",
    "        self.n_layer = n_layer\n",
    "        self.epochs = epochs\n",
    "        self.act_fn = act_fn\n",
    "        self.loss_loc = []\n",
    "        self.batch = []\n",
    "        self.min_learning_rate = 1.0e-7\n",
    "\n",
    "    def build(self, optimizer, loss_fn, early_stopping, factor):\n",
    "        self._model = MLP(self.n_input1,self.n_input2, self.n_output, self.n_neuron, self.n_layer, self.act_fn)\n",
    "        self._optimizer = optimizer\n",
    "        self._loss_fn = loss_fn\n",
    "        self._early_stopping = early_stopping\n",
    "        self.factor = factor\n",
    "        return self\n",
    "\n",
    "    def train_step(self, t_data1,x_data1, u_data1,t_data2,x_data2,u_data2, t_pinn,x_pinn, d,c,loop):\n",
    "        with tf.GradientTape() as tape_total:\n",
    "            tape_total.watch(self._model.trainable_variables)\n",
    "            u_pred_1 = self._model([t_data1, x_data1])\n",
    "            u_pred_2 = self._model([t_data2, x_data2])\n",
    "            loss1_1 = 0.005*self._loss_fn(u_pred_1, u_data1)\n",
    "            loss1_2 = 0.8*self._loss_fn(u_pred_2, u_data2)\n",
    "            loss1 = loss1_1 + loss1_2\n",
    "            loss1 = tf.cast(loss1, dtype=tf.float32)\n",
    "            \n",
    "            with tf.GradientTape() as tape1:  \n",
    "                tape1.watch(t_pinn)\n",
    "                u_pred_pinn = self._model([t_pinn, x_pinn])\n",
    "            u_t = tape1.gradient(u_pred_pinn, t_pinn)\n",
    "            \n",
    "            with tf.GradientTape() as tape2:\n",
    "                tape2.watch(x_pinn)\n",
    "                with tf.GradientTape() as tape3:\n",
    "                    tape3.watch(x_pinn)\n",
    "                    u_pred_pinn = self._model([t_pinn, x_pinn])\n",
    "                u_x = tape3.gradient(u_pred_pinn, x_pinn)\n",
    "            u_xx = tape2.gradient(u_x, x_pinn)    \n",
    "\n",
    "            u_t = tf.cast(u_t, dtype=tf.float32)\n",
    "            u_x = tf.cast(u_x, dtype=tf.float32)\n",
    "            u_xx = tf.cast(u_xx, dtype=tf.float32)\n",
    "\n",
    "            loss_physics = u_t + c * u_x -d*u_xx\n",
    "            loss2 = self._loss_fn(loss_physics, tf.zeros_like(loss_physics))\n",
    "            loss2 = tf.cast(loss2, dtype=tf.float32)\n",
    "         \n",
    "            loss = loss1 + loss2 \n",
    "            \n",
    "        self._optimizer.minimize(loss, self._model.trainable_variables, tape=tape_total)\n",
    "        self._loss_values.append(loss)\n",
    "        \n",
    "        if loop % 300 ==0:\n",
    "            self.loss_loc.append(loss.numpy())\n",
    "            self.batch.append(loop)\n",
    "            print(\"loss1_1: \",loss1_1.numpy(),\"loss1_2:\", loss1_2.numpy(),\"loss2: \",loss2.numpy(),\"loss: \",loss.numpy(),  \"train_step:\",loop)\n",
    "       # if loop % 500 == 0:\n",
    "          #  u_pred_test = self._model([t_data1, x_data1])\n",
    "           # plt.plot(x_data1, u_pred_test, label=\"loop{}\".format(loop))\n",
    "          #  plt.legend()\n",
    "           # plt.grid()\n",
    "           # plt.show()\n",
    "        return self\n",
    "\n",
    "    def train(self, t_data1, x_data1,u_data1,t_data2,x_data2,u_data2, t_pinn,x_pinn, d,c):\n",
    "        self._loss_values = []\n",
    "        self.loop = 0\n",
    "        self.stopped = 0\n",
    "        for i in range(self.epochs):\n",
    "            self.loop += 1\n",
    "            self.train_step(t_data1, x_data1,u_data1,t_data2,x_data2,u_data2, t_pinn,x_pinn, d,c, self.loop)\n",
    "            if self._early_stopping(self._loss_values[-1]):\n",
    "                self._optimizer.learning_rate.assign(self._optimizer.learning_rate * self.factor)\n",
    "                print(\"current_learning_rate:\" , self._optimizer.learning_rate)\n",
    "                self.stopped +=1\n",
    "                if self.stopped >20:\n",
    "                    print(\"early stopping\")\n",
    "                    break\n",
    "                else:\n",
    "                    continue"
   ]
  },
  {
   "cell_type": "code",
   "execution_count": 81,
   "id": "dfe92477",
   "metadata": {},
   "outputs": [],
   "source": [
    "# boundary condition\n",
    "points = 200\n",
    "x_pinn = np.array([np.linspace(0,L, points)]*points)\n",
    "x_pinn = tf.reshape(x_pinn,[-1,1])\n",
    "\n",
    "t_pinn = tf.linspace(0,t, points)\n",
    "t_pinn = tf.reshape(t_pinn, [-1,1])\n",
    "t_pinn = tf.tile(t_pinn, [1, points])\n",
    "t_pinn = tf.reshape(t_pinn, [-1,1])\n",
    "t_input = tf.linspace(0,t, nt)\n",
    "\n",
    "x_starting_points = [i for i in range(nx)]\n",
    "t_starting_points = [0]\n",
    "u_starting_points = [i for i in range(nx)]\n",
    "\n",
    "\n",
    "x_data1 = tf.gather(x, x_starting_points )\n",
    "u = tf.where(((x_data1 <1 ) | ( x_data1 >4)), 0.0, 2.0)\n",
    "x_data1 = tf.reshape(x_data1,[-1,1])\n",
    "t_data1 = tf.zeros_like(x_data1)\n",
    "u_data1 = tf.gather(u, u_starting_points)\n",
    "# u_data1 = tf.reshape(u_data1 , [-1,1])\n",
    "\n",
    "t_boundary_points = [i for i in range(nt)]\n",
    "\n",
    "t_data2 = tf.gather(t_input, t_boundary_points)\n",
    "x_data21= tf.zeros_like(t_data2)\n",
    "x_data21 = tf.cast(x_data21, dtype=tf.float32) \n",
    "x_data22 = tf.fill(nt, 20.0)\n",
    "x_data22 = tf.cast(x_data21, dtype=tf.float32) \n",
    "t_data2 = tf.concat([t_data2, t_data2], axis=0)\n",
    "t_data2 = tf.reshape(t_data2, [-1,1])\n",
    "\n",
    "x_data2 = tf.concat([x_data21, x_data22], axis=0)\n",
    "x_data2 = tf.reshape(x_data2, [-1,1])\n",
    "u_data2= tf.zeros_like(x_data2)\n",
    "u_data2= tf.reshape(u_data2, [-1,1])"
   ]
  },
  {
   "cell_type": "code",
   "execution_count": 89,
   "id": "4c43e9b1",
   "metadata": {},
   "outputs": [
    {
     "name": "stdout",
     "output_type": "stream",
     "text": [
      "loss1_1:  0.0006641238 loss1_2: 1.0551957e-05 loss2:  6.823929e-05 loss:  0.000742915 train_step: 300\n",
      "loss1_1:  0.00021249811 loss1_2: 0.0003837192 loss2:  2.474245e-05 loss:  0.00062095973 train_step: 600\n",
      "loss1_1:  0.00014437149 loss1_2: 6.273298e-05 loss2:  1.3703674e-05 loss:  0.00022080813 train_step: 900\n",
      "loss1_1:  0.00012834613 loss1_2: 4.1020778e-07 loss2:  7.45126e-06 loss:  0.0001362076 train_step: 1200\n",
      "loss1_1:  0.00012025824 loss1_2: 3.0216654e-07 loss2:  6.0648213e-06 loss:  0.00012662522 train_step: 1500\n",
      "loss1_1:  0.00011438149 loss1_2: 7.274417e-07 loss2:  5.997018e-06 loss:  0.00012110595 train_step: 1800\n",
      "loss1_1:  0.000114196155 loss1_2: 0.0006752106 loss2:  7.030345e-06 loss:  0.0007964371 train_step: 2100\n",
      "loss1_1:  0.00010344561 loss1_2: 4.210335e-06 loss2:  5.8138125e-06 loss:  0.00011346975 train_step: 2400\n",
      "loss1_1:  9.866213e-05 loss1_2: 0.00011770083 loss2:  5.8428823e-06 loss:  0.00022220585 train_step: 2700\n",
      "loss1_1:  9.349193e-05 loss1_2: 8.140973e-05 loss2:  5.828561e-06 loss:  0.00018073022 train_step: 3000\n",
      "loss1_1:  8.6745975e-05 loss1_2: 3.9059823e-06 loss2:  5.9104536e-06 loss:  9.656241e-05 train_step: 3300\n",
      "loss1_1:  8.103333e-05 loss1_2: 7.361945e-05 loss2:  5.800072e-06 loss:  0.00016045285 train_step: 3600\n",
      "loss1_1:  7.434366e-05 loss1_2: 6.9692695e-05 loss2:  5.761308e-06 loss:  0.00014979766 train_step: 3900\n",
      "loss1_1:  6.648221e-05 loss1_2: 0.000110432295 loss2:  6.3044704e-06 loss:  0.00018321897 train_step: 4200\n",
      "current_learning_rate: <tf.Variable 'Adam/learning_rate:0' shape=() dtype=float32, numpy=0.0075999997>\n",
      "loss1_1:  6.0075177e-05 loss1_2: 1.8032738e-07 loss2:  5.349415e-06 loss:  6.560492e-05 train_step: 4500\n",
      "loss1_1:  5.429781e-05 loss1_2: 1.8001245e-07 loss2:  5.914029e-06 loss:  6.039185e-05 train_step: 4800\n",
      "loss1_1:  5.0169765e-05 loss1_2: 2.2930979e-05 loss2:  5.1309266e-06 loss:  7.823167e-05 train_step: 5100\n",
      "loss1_1:  4.538745e-05 loss1_2: 1.9875171e-05 loss2:  5.9669287e-06 loss:  7.1229544e-05 train_step: 5400\n",
      "loss1_1:  4.363943e-05 loss1_2: 9.5401665e-05 loss2:  6.4703904e-06 loss:  0.00014551148 train_step: 5700\n",
      "loss1_1:  4.3748812e-05 loss1_2: 0.000503011 loss2:  1.1893418e-05 loss:  0.0005586532 train_step: 6000\n",
      "loss1_1:  3.710223e-05 loss1_2: 8.1564385e-06 loss2:  7.478641e-06 loss:  5.273731e-05 train_step: 6300\n",
      "loss1_1:  3.3333963e-05 loss1_2: 0.00014997816 loss2:  2.3328354e-05 loss:  0.00020664048 train_step: 6600\n",
      "current_learning_rate: <tf.Variable 'Adam/learning_rate:0' shape=() dtype=float32, numpy=0.0057759997>\n",
      "loss1_1:  2.6080566e-05 loss1_2: 2.9238397e-08 loss2:  2.9051305e-06 loss:  2.9014935e-05 train_step: 6900\n",
      "loss1_1:  2.485164e-05 loss1_2: 5.1714323e-07 loss2:  4.426719e-06 loss:  2.9795501e-05 train_step: 7200\n",
      "current_learning_rate: <tf.Variable 'Adam/learning_rate:0' shape=() dtype=float32, numpy=0.0043897596>\n",
      "loss1_1:  1.9877003e-05 loss1_2: 7.8948794e-08 loss2:  3.439316e-06 loss:  2.3395269e-05 train_step: 7500\n",
      "loss1_1:  2.5635214e-05 loss1_2: 1.7636474e-07 loss2:  9.10026e-06 loss:  3.491184e-05 train_step: 7800\n",
      "current_learning_rate: <tf.Variable 'Adam/learning_rate:0' shape=() dtype=float32, numpy=0.0033362173>\n",
      "loss1_1:  1.6516602e-05 loss1_2: 2.9347262e-07 loss2:  3.2231335e-06 loss:  2.0033207e-05 train_step: 8100\n",
      "loss1_1:  1.6188931e-05 loss1_2: 1.4531835e-06 loss2:  5.8595115e-06 loss:  2.3501627e-05 train_step: 8400\n",
      "current_learning_rate: <tf.Variable 'Adam/learning_rate:0' shape=() dtype=float32, numpy=0.002535525>\n",
      "loss1_1:  1.32171845e-05 loss1_2: 5.3041227e-08 loss2:  2.0587252e-06 loss:  1.5328951e-05 train_step: 8700\n",
      "loss1_1:  1.2144351e-05 loss1_2: 2.3574432e-06 loss2:  1.9399045e-06 loss:  1.6441698e-05 train_step: 9000\n",
      "current_learning_rate: <tf.Variable 'Adam/learning_rate:0' shape=() dtype=float32, numpy=0.001926999>\n",
      "loss1_1:  1.0542918e-05 loss1_2: 1.5400564e-08 loss2:  1.6059213e-06 loss:  1.216424e-05 train_step: 9300\n",
      "current_learning_rate: <tf.Variable 'Adam/learning_rate:0' shape=() dtype=float32, numpy=0.0014645192>\n",
      "loss1_1:  9.52005e-06 loss1_2: 3.9570136e-08 loss2:  1.1431766e-06 loss:  1.0702797e-05 train_step: 9600\n",
      "loss1_1:  1.566409e-05 loss1_2: 6.539546e-08 loss2:  2.792663e-06 loss:  1.852215e-05 train_step: 9900\n",
      "loss1_1:  1.0240089e-05 loss1_2: 2.4280068e-06 loss2:  9.574534e-06 loss:  2.224263e-05 train_step: 10200\n",
      "current_learning_rate: <tf.Variable 'Adam/learning_rate:0' shape=() dtype=float32, numpy=0.0011130346>\n",
      "loss1_1:  7.303522e-06 loss1_2: 8.4079026e-08 loss2:  1.112653e-06 loss:  8.500254e-06 train_step: 10500\n",
      "loss1_1:  1.0800677e-05 loss1_2: 5.11799e-08 loss2:  1.28656e-05 loss:  2.3717457e-05 train_step: 10800\n",
      "current_learning_rate: <tf.Variable 'Adam/learning_rate:0' shape=() dtype=float32, numpy=0.00084590627>\n",
      "loss1_1:  6.116013e-06 loss1_2: 9.474725e-09 loss2:  9.0406013e-07 loss:  7.0295478e-06 train_step: 11100\n",
      "loss1_1:  5.9438594e-06 loss1_2: 2.8570872e-07 loss2:  3.8113228e-06 loss:  1.0040891e-05 train_step: 11400\n",
      "loss1_1:  4.777938e-06 loss1_2: 3.9551118e-08 loss2:  8.49727e-07 loss:  5.667216e-06 train_step: 11700\n",
      "loss1_1:  4.317772e-06 loss1_2: 8.5025886e-07 loss2:  3.424675e-06 loss:  8.592706e-06 train_step: 12000\n",
      "current_learning_rate: <tf.Variable 'Adam/learning_rate:0' shape=() dtype=float32, numpy=0.0006428888>\n",
      "loss1_1:  4.277193e-06 loss1_2: 1.2092248e-07 loss2:  2.5862068e-06 loss:  6.984322e-06 train_step: 12300\n",
      "loss1_1:  3.7582988e-06 loss1_2: 1.4845954e-09 loss2:  2.523491e-06 loss:  6.283274e-06 train_step: 12600\n",
      "current_learning_rate: <tf.Variable 'Adam/learning_rate:0' shape=() dtype=float32, numpy=0.00048859545>\n",
      "loss1_1:  3.0425808e-06 loss1_2: 6.024534e-08 loss2:  1.1153198e-06 loss:  4.218146e-06 train_step: 12900\n",
      "loss1_1:  4.093112e-06 loss1_2: 6.0802927e-09 loss2:  1.2080711e-05 loss:  1.6179903e-05 train_step: 13200\n",
      "loss1_1:  2.9362413e-06 loss1_2: 4.1615888e-08 loss2:  6.561702e-07 loss:  3.6340275e-06 train_step: 13500\n",
      "loss1_1:  2.5825009e-06 loss1_2: 1.487186e-06 loss2:  9.000075e-07 loss:  4.969694e-06 train_step: 13800\n",
      "current_learning_rate: <tf.Variable 'Adam/learning_rate:0' shape=() dtype=float32, numpy=0.00037133254>\n",
      "loss1_1:  2.2691047e-06 loss1_2: 6.835806e-08 loss2:  5.008866e-07 loss:  2.8383492e-06 train_step: 14100\n",
      "loss1_1:  2.1041067e-06 loss1_2: 7.7503637e-07 loss2:  4.540832e-07 loss:  3.3332262e-06 train_step: 14400\n",
      "current_learning_rate: <tf.Variable 'Adam/learning_rate:0' shape=() dtype=float32, numpy=0.00028221274>\n",
      "loss1_1:  1.7825593e-06 loss1_2: 1.168934e-09 loss2:  5.7318414e-07 loss:  2.3569123e-06 train_step: 14700\n",
      "loss1_1:  1.6609671e-06 loss1_2: 7.190346e-08 loss2:  4.15152e-07 loss:  2.1480225e-06 train_step: 15000\n",
      "loss1_1:  1.7705584e-06 loss1_2: 5.945642e-07 loss2:  1.8931186e-06 loss:  4.258241e-06 train_step: 15300\n",
      "current_learning_rate: <tf.Variable 'Adam/learning_rate:0' shape=() dtype=float32, numpy=0.00021448168>\n",
      "loss1_1:  1.4201038e-06 loss1_2: 5.545549e-09 loss2:  3.075759e-07 loss:  1.7332252e-06 train_step: 15600\n",
      "current_learning_rate: <tf.Variable 'Adam/learning_rate:0' shape=() dtype=float32, numpy=0.00016300607>\n",
      "loss1_1:  1.3208369e-06 loss1_2: 2.7625402e-09 loss2:  2.8364673e-07 loss:  1.6072462e-06 train_step: 15900\n",
      "loss1_1:  1.2279696e-06 loss1_2: 3.3004626e-09 loss2:  2.9978835e-07 loss:  1.5310584e-06 train_step: 16200\n",
      "loss1_1:  1.1750287e-06 loss1_2: 8.541831e-09 loss2:  1.3542743e-06 loss:  2.537845e-06 train_step: 16500\n",
      "loss1_1:  1.1119299e-06 loss1_2: 9.1824454e-08 loss2:  2.9681982e-07 loss:  1.5005742e-06 train_step: 16800\n",
      "loss1_1:  1.0361665e-06 loss1_2: 1.3036444e-07 loss2:  5.38003e-07 loss:  1.704534e-06 train_step: 17100\n",
      "loss1_1:  1.0005009e-06 loss1_2: 1.7172466e-08 loss2:  4.3879757e-07 loss:  1.456471e-06 train_step: 17400\n",
      "loss1_1:  9.640506e-07 loss1_2: 1.0733594e-07 loss2:  6.012929e-07 loss:  1.6726794e-06 train_step: 17700\n",
      "loss1_1:  8.914247e-07 loss1_2: 7.266737e-08 loss2:  3.4470656e-07 loss:  1.3087986e-06 train_step: 18000\n"
     ]
    }
   ],
   "source": [
    "start_time_PINNs_training = datetime.datetime.now()\n",
    "PINNs = PhysicsInformedNNs(1,1,1,72,5,18000)\n",
    "optimizer = tf.keras.optimizers.Adam(learning_rate = 1.0e-2)\n",
    "loss_fn = tf.keras.losses.MeanSquaredError()\n",
    "early_stopping = EarlyStopping(patience=180,verbose=1)\n",
    "PINNs.build(optimizer, loss_fn, early_stopping, 0.76)\n",
    "PINNs.train( t_data1,x_data1, u_data1,t_data2,x_data2,u_data2, t_pinn,x_pinn, d,c)\n",
    "end_time_PINNs_training = datetime.datetime.now()\n",
    "elapsed_time_PINNs_training = abs(end_time_PINNs_training - start_time_PINNs_training)"
   ]
  },
  {
   "cell_type": "code",
   "execution_count": 180,
   "id": "551ba687",
   "metadata": {},
   "outputs": [
    {
     "data": {
      "image/png": "[encoded data removed]",
      "text/plain": [
       "<Figure size 640x480 with 1 Axes>"
      ]
     },
     "metadata": {},
     "output_type": "display_data"
    }
   ],
   "source": [
    "plt.plot(PINNs.batch,PINNs.loss_loc, label = \"Loss\")\n",
    "plt.grid(True)\n",
    "plt.xlabel(\"Epochs\")\n",
    "plt.ylabel(\"Loss\")\n",
    "plt.legend()\n",
    "plt.show()\n",
    "loss_loc1 = PINNs.loss_loc\n",
    "batch1 = PINNs.batch"
   ]
  },
  {
   "cell_type": "code",
   "execution_count": 194,
   "id": "5d1b8041-f16e-4e7f-b8cd-7b7991769901",
   "metadata": {},
   "outputs": [],
   "source": [
    "x_test = np.linspace(0,L,nx)\n",
    "t_test = tf.linspace(0,t,nt)\n",
    "\n",
    "u_pred=[]\n",
    "\n",
    "for i in range(nt-1):\n",
    "    tt = tf.fill(nx, t_test[i])\n",
    "    u_pred.append(np.reshape(PINNs._model([tt,x_test]), (-1)))"
   ]
  },
  {
   "cell_type": "code",
   "execution_count": 195,
   "id": "7f0114e5-8cd8-4a08-9042-77e137a46a67",
   "metadata": {},
   "outputs": [],
   "source": [
    "start_time_PINNs_predicting = datetime.datetime.now()\n",
    "\n",
    "u_pred.append(np.reshape(PINNs._model([tf.fill(nx, t_test[-1]), x_test]), (-1)))\n",
    "\n",
    "end_time_PINNs_predicting = datetime.datetime.now()\n",
    "\n",
    "elapsed_time_PINNs_predicting = abs(end_time_PINNs_predicting - start_time_PINNs_predicting)\n",
    "elapsed_time_PINNs_training = abs(end_time_PINNs_training - start_time_PINNs_training)"
   ]
  },
  {
   "cell_type": "code",
   "execution_count": 196,
   "id": "e8d2b2d0-e761-4118-b936-bc216c2f82ab",
   "metadata": {},
   "outputs": [
    {
     "data": {
      "image/png": "[encoded data removed]",
      "text/plain": [
       "<Figure size 640x480 with 1 Axes>"
      ]
     },
     "metadata": {},
     "output_type": "display_data"
    }
   ],
   "source": [
    "t_test = np.array([t] * nx)\n",
    "t_test = tf.reshape(t_test, [-1,1])\n",
    "u_last_time_PINNs = PINNs._model([t_test, x_test], (-1))\n",
    "u_last_time_analytical = analytical[-1]\n",
    "\n",
    "plt.plot(x_test, u_last_time_PINNs, label=\"PINNs\")\n",
    "plt.text(1.0,1.1, f\"PINNs_training: {elapsed_time_PINNs_training.total_seconds():.6f} s\", fontsize=12, ha='center', va='center', bbox=dict(facecolor='white', edgecolor='gray', boxstyle='round,pad=0.4'))\n",
    "plt.text(1.0,1.2, f\"PINNs_predicting: {elapsed_time_PINNs_predicting.total_seconds():.6f} s\", fontsize=12, ha='center', va='center', bbox=dict(facecolor='white', edgecolor='gray', boxstyle='round,pad=0.4'))\n",
    "plt.grid(True)\n",
    "plt.xlabel(\"x\")\n",
    "plt.ylabel(\"y\")\n",
    "plt.legend()\n",
    "plt.show()"
   ]
  },
  {
   "cell_type": "code",
   "execution_count": 197,
   "id": "faad8da6-70cf-4915-a95e-c74fb77bdc10",
   "metadata": {},
   "outputs": [],
   "source": [
    "t_test = np.array([t] * nx)\n",
    "t_test = tf.reshape(t_test, [-1,1])\n",
    "u_4sec = PINNs._model([t_test, x_test], (-1))"
   ]
  },
  {
   "cell_type": "code",
   "execution_count": 237,
   "id": "30ac8310-4838-4f87-9b45-ed7523c7abd1",
   "metadata": {},
   "outputs": [
    {
     "name": "stdout",
     "output_type": "stream",
     "text": [
      "           Method       MSE\n",
      "0           PINNs  0.165937\n",
      "1  Crank_Nicolson  0.000021\n",
      "2          Upwind  0.001958\n",
      "                           Time\n",
      "0    PINNs_training  518.850545\n",
      "1  PINNs_predicting    0.005656\n",
      "2    Crank-Nicolson    0.073665\n",
      "3            Upwind    0.039319\n"
     ]
    }
   ],
   "source": [
    "import pandas as pd\n",
    "def calculate_mse(array1, array2):\n",
    "    if len(array1) != len(array2):\n",
    "        raise ValueError(\"Input arrays must have the same length.\")\n",
    "    \n",
    "    squared_errors = (array1 - array2) ** 2\n",
    "    mse = np.mean(squared_errors)\n",
    "    return mse\n",
    "\n",
    "mse_PINNs = calculate_mse(u_last_time_PINNs, u_last_time_analytical)\n",
    "mse_Crank_Nicolson=calculate_mse(keep2[-1], u_last_time_analytical)\n",
    "mse_Upwind=calculate_mse(keep1[-1], u_last_time_analytical)\n",
    "data1 = {\n",
    "    'Method': ['PINNs', 'Crank_Nicolson', 'Upwind'],\n",
    "    'MSE': [mse_PINNs, mse_Crank_Nicolson, mse_Upwind],\n",
    "}\n",
    "data2= {\n",
    "        \"\": [\"PINNs_training\", \"PINNs_predicting\", \"Crank-Nicolson\", \"Upwind\"],\n",
    "        \"Time\": [elapsed_time_PINNs_training.total_seconds(), elapsed_time_PINNs_predicting.total_seconds(), elapsed_time_Crank_Nicolson.total_seconds(), abs(elapsed_time_Upwind.total_seconds())]\n",
    "}\n",
    "\n",
    "df1 = pd.DataFrame(data1)\n",
    "df2 = pd.DataFrame(data2)\n",
    "print(df1)\n",
    "print(df2)\n"
   ]
  },
  {
   "cell_type": "markdown",
   "id": "e4bf4e07-f5d4-431a-a759-4494ee733e00",
   "metadata": {},
   "source": [
    "4 seconds of moving is still not able to show the advantages of PINNs but it is powerful enough. Notice that the analytical solution it self is solved by Python and loss between the condition in real world inevitably happens.\n",
    "\n",
    "(The analytical solution is an integral. Thus, I calculated analytical data with python as well. Considering the rounding errors, information loss errors, and intrinsic unavoidable errors , etc. Due to the method of computation, the MSE may not have much value. However, because Crank-Nicolson is almost the most precise method for advection diffusion's simulation, it is enough to observe that PINNs perform closely to Crank-Nicolson.)\n",
    "\n",
    "Crank-Nicolson's time consuming problem has been discussed for long but a pretrained PINNs may have a chance to solve this problem"
   ]
  },
  {
   "cell_type": "code",
   "execution_count": 1,
   "id": "634c6eb0-f315-45ef-8261-5fceb04001c1",
   "metadata": {},
   "outputs": [
    {
     "ename": "NameError",
     "evalue": "name 'np' is not defined",
     "output_type": "error",
     "traceback": [
      "\u001b[1;31m---------------------------------------------------------------------------\u001b[0m",
      "\u001b[1;31mNameError\u001b[0m                                 Traceback (most recent call last)",
      "Cell \u001b[1;32mIn[1], line 1\u001b[0m\n\u001b[1;32m----> 1\u001b[0m x \u001b[38;5;241m=\u001b[39m np\u001b[38;5;241m.\u001b[39mlinspace(\u001b[38;5;241m0\u001b[39m, L, \u001b[38;5;28mint\u001b[39m(L \u001b[38;5;241m/\u001b[39m deltax))\n\u001b[0;32m      2\u001b[0m \u001b[38;5;28;01mdef\u001b[39;00m \u001b[38;5;21mupdate_plot\u001b[39m(num):\n\u001b[0;32m      4\u001b[0m     ax\u001b[38;5;241m.\u001b[39mcla()\n",
      "\u001b[1;31mNameError\u001b[0m: name 'np' is not defined"
     ]
    }
   ],
   "source": [
    "x = np.linspace(0, L, int(L / deltax))\n",
    "def update_plot(num):\n",
    "    \n",
    "    ax.cla()\n",
    "    \n",
    "    ax.set_ylim(-0.1, 2.5)\n",
    "    ax.plot(x, keep1[num], label=\"upwind(One order implicit Euler method)\")\n",
    "    ax.plot(x, analytical[num], label=\"analytical\")\n",
    "    ax.plot(x, keep2[num], label=\"Crank-Nicolson\")\n",
    "    ax.plot(x_test, u_pred[num], label=\"PINNs\")\n",
    "    ax.set_title('Fluid Flow Animation')\n",
    "    ax.set_xlabel('x')\n",
    "    ax.set_ylabel('u')\n",
    "    ax.legend()\n",
    "    ax.grid()\n",
    "\n",
    "\n",
    "fig = plt.figure()\n",
    "ax = fig.add_subplot()\n",
    "ani = animation.FuncAnimation(fig, update_plot, frames=nt, interval=10)\n",
    "ani.save(\"advection_diffusion.gif\", writer=\"imagemagick\")\n",
    "plt.close()\n",
    "HTML(ani.to_jshtml())"
   ]
  },
  {
   "cell_type": "code",
   "execution_count": 2,
   "id": "87066a78-b702-458a-ab3b-586edf96f0ff",
   "metadata": {},
   "outputs": [
    {
     "ename": "NameError",
     "evalue": "name 'nt' is not defined",
     "output_type": "error",
     "traceback": [
      "\u001b[1;31m---------------------------------------------------------------------------\u001b[0m",
      "\u001b[1;31mNameError\u001b[0m                                 Traceback (most recent call last)",
      "Cell \u001b[1;32mIn[2], line 8\u001b[0m\n\u001b[0;32m      4\u001b[0m     mse_PINNs_plot \u001b[38;5;241m=\u001b[39m calculate_mse(k3[num], ana[num])\n\u001b[0;32m      6\u001b[0m     \u001b[38;5;28;01mreturn\u001b[39;00m mse_Upwind_plot, mse_Crank_Nicolson_plot, mse_PINNs_plot\n\u001b[1;32m----> 8\u001b[0m keeploss1 \u001b[38;5;241m=\u001b[39m [\u001b[38;5;241m0\u001b[39m]\u001b[38;5;241m*\u001b[39mnt\n\u001b[0;32m      9\u001b[0m keeploss2 \u001b[38;5;241m=\u001b[39m [\u001b[38;5;241m0\u001b[39m]\u001b[38;5;241m*\u001b[39mnt\n\u001b[0;32m     10\u001b[0m keeplossPINNs \u001b[38;5;241m=\u001b[39m [\u001b[38;5;241m0\u001b[39m]\u001b[38;5;241m*\u001b[39mnt\n",
      "\u001b[1;31mNameError\u001b[0m: name 'nt' is not defined"
     ]
    }
   ],
   "source": [
    "def calculate_loss(k1,k2,k3,ana,num):\n",
    "    mse_Upwind_plot = calculate_mse(k1[num], ana[num])\n",
    "    mse_Crank_Nicolson_plot = calculate_mse(k2[num], ana[num])\n",
    "    mse_PINNs_plot = calculate_mse(k3[num], ana[num])\n",
    "\n",
    "    return mse_Upwind_plot, mse_Crank_Nicolson_plot, mse_PINNs_plot\n",
    "\n",
    "keeploss1 = [0]*nt\n",
    "keeploss2 = [0]*nt\n",
    "keeplossPINNs = [0]*nt\n",
    "for i in range(nt):\n",
    "    keeploss1[i], keeploss2[i], keeplossPINNs[i] = calculate_loss(keep1, keep2, u_pred, analytical, i)\n",
    "\n",
    "t_space = np.linspace(0, t, nt)\n",
    "def update_loss(num):\n",
    "    ax.cla()\n",
    "    \n",
    "    ax.set_xlim(0.0, t)\n",
    "    ax.set_ylim(0.0, 0.01)\n",
    "    ax.plot(t_space[:num], keeploss1[:num], label=\"upwind(One order implicit Euler method)\")\n",
    "    ax.plot(t_space[:num], keeploss2[:num], label=\"Crank-Nicolson\")\n",
    "    ax.plot(t_space[:num], keeplossPINNs[:num], label=\"PINNs\")\n",
    "    ax.set_title('Fluid Flow Animation')\n",
    "    ax.set_xlabel('t')\n",
    "    ax.set_ylabel('Loss')\n",
    "    ax.legend()\n",
    "    ax.grid()\n",
    "    \n",
    "fig = plt.figure()\n",
    "ax = fig.add_subplot()\n",
    "ani = animation.FuncAnimation(fig, update_loss, frames=nt, interval=10)\n",
    "ani.save(\"advection_diffusion_loss.gif\", writer=\"imagemagick\")\n",
    "plt.close()\n",
    "#HTML(ani.to_jshtml())    "
   ]
  },
  {
   "cell_type": "code",
   "execution_count": 236,
   "id": "4a88c82d-f519-4d7d-afa3-b2506b8d4b8c",
   "metadata": {},
   "outputs": [
    {
     "data": {
      "image/png": "[encoded data removed]",
      "text/plain": [
       "<Figure size 640x480 with 1 Axes>"
      ]
     },
     "metadata": {},
     "output_type": "display_data"
    },
    {
     "data": {
      "text/plain": [
       "<Figure size 640x480 with 0 Axes>"
      ]
     },
     "metadata": {},
     "output_type": "display_data"
    }
   ],
   "source": [
    "t_space = np.linspace(0, t, nt)\n",
    "plt.ylim(0.0, 0.0025)\n",
    "plt.plot(t_space, keeploss1, label=\"Upwind\")\n",
    "plt.plot(t_space, keeploss2, label=\"Crank-Nicolson\")\n",
    "plt.plot(t_space, keeplossPINNs, label=\"PINNs\")\n",
    "plt.grid(True)\n",
    "plt.legend()\n",
    "plt.xlabel(\"t\")\n",
    "plt.ylabel(\"loss\")\n",
    "plt.show()\n",
    "plt.savefig(\"advection_diffusion_loss_comparison.png\")"
   ]
  },
  {
   "cell_type": "code",
   "execution_count": 4,
   "id": "18782af4-3593-4083-8d44-2b17b22774e9",
   "metadata": {},
   "outputs": [],
   "source": [
    "#plt.ylim(0.7, 1.0)\n",
    "#plt.xlim(15,19)\n",
    "    #ax.plot(x_test, u_pred[num], label=\"PINNs\")\n",
    "#plt.plot(x, keep1[-1], label=\"upwind(One order implicit Euler method)\")\n",
    "#plt.plot(x, analytical[-1], label=\"analytical(calculated by python)\")\n",
    "#plt.plot(x, keep2[-1], label=\"Crank-Nicolson\")\n",
    "#plt.plot(x_test, u_pred[-1], label=\"PINNs\")\n",
    "#plt.title('Last time comparison')\n",
    "#plt.xlabel('x')\n",
    "#plt.ylabel('u')\n",
    "#plt.legend()\n",
    "#plt.grid()\n",
    "#plt.savefig('advection_diffusion_last_time_comparison.png') \n",
    "#plt.show()"
   ]
  },
  {
   "cell_type": "markdown",
   "id": "974cada9-3380-4267-913e-f87718233635",
   "metadata": {},
   "source": [
    "PINNs dont perform better than simulations, this may because that PINNs seem to oscillate on the initial condition, tackling the composition of Loss or use other method of training may help in this condition. However, as we already know the initial condition, we may use PINNs for temporal and spatial development and concatenate the already known initial condition to let the model make the most of advantages."
   ]
  },
  {
   "cell_type": "code",
   "execution_count": null,
   "id": "e9ae2169-1f66-4e1a-8d8c-99eefc6ea9e6",
   "metadata": {},
   "outputs": [],
   "source": [
    "# save the model\n",
    "model_path = 'advection_diffusion_PINNs.h5'\n",
    "PINNs._model.save(model_path)\n",
    "\n",
    "#loaded_model = keras.models.load_model(model_path)\n",
    "\n",
    "#t_test = np.linspace(0, 1, 100)\n",
    "#x_test = np.linspace(0, 1, 100)\n",
    "#t_test, x_test = np.meshgrid(t_test, x_test)\n",
    "#u_pred = loaded_model.predict([t_test.flatten(), x_test.flatten()])\n",
    "#u_pred = u_pred.reshape(t_test.shape)\n",
    "\n",
    "\n",
    "\n",
    "\n"
   ]
  }
 ],
 "metadata": {
  "kernelspec": {
   "display_name": "Python 3 (ipykernel)",
   "language": "python",
   "name": "python3"
  },
  "language_info": {
   "codemirror_mode": {
    "name": "ipython",
    "version": 3
   },
   "file_extension": ".py",
   "mimetype": "text/x-python",
   "name": "python",
   "nbconvert_exporter": "python",
   "pygments_lexer": "ipython3",
   "version": "3.10.9"
  }
 },
 "nbformat": 4,
 "nbformat_minor": 5
}
