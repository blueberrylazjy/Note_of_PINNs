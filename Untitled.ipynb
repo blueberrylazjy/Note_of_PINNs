{
 "cells": [
  {
   "cell_type": "code",
   "execution_count": 13,
   "id": "238a423e",
   "metadata": {},
   "outputs": [],
   "source": [
    "m_e = 9.109e-31\n",
    "pi = 3.1415926\n",
    "epsilon = 8.85419e-12\n",
    "e =  1.602e-19\n",
    "A_b = 2\n",
    "m_n = 1.675e-27"
   ]
  },
  {
   "cell_type": "code",
   "execution_count": 14,
   "id": "a0364671",
   "metadata": {},
   "outputs": [
    {
     "data": {
      "text/plain": [
       "9.870022298169232e+42"
      ]
     },
     "execution_count": 14,
     "metadata": {},
     "output_type": "execute_result"
    }
   ],
   "source": [
    "import numpy as np\n",
    "(6 * pi * np.sqrt(2 * pi) * epsilon**2 *m_e * m_n)/(e**4 *m_e **(3/2))"
   ]
  },
  {
   "cell_type": "code",
   "execution_count": null,
   "id": "a37f3e1e",
   "metadata": {},
   "outputs": [],
   "source": [
    "# TR-60U \n",
    "# P-NB E = 85 kev :1/2:1/3 = 7:2:1\n",
    "# N-NB 300kev\n",
    "# JT-60 SA\n",
    "# N-NB 500kev\n",
    "# ITER/DEMO\n",
    "# N-NB 1MeV"
   ]
  }
 ],
 "metadata": {
  "kernelspec": {
   "display_name": "Python 3 (ipykernel)",
   "language": "python",
   "name": "python3"
  },
  "language_info": {
   "codemirror_mode": {
    "name": "ipython",
    "version": 3
   },
   "file_extension": ".py",
   "mimetype": "text/x-python",
   "name": "python",
   "nbconvert_exporter": "python",
   "pygments_lexer": "ipython3",
   "version": "3.10.9"
  }
 },
 "nbformat": 4,
 "nbformat_minor": 5
}
